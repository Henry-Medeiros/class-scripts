{
  "nbformat": 4,
  "nbformat_minor": 0,
  "metadata": {
    "colab": {
      "name": "Class3.ipynb",
      "provenance": [],
      "collapsed_sections": [],
      "authorship_tag": "ABX9TyOCv5Eyu77JtDm/ELXQF+Ak",
      "include_colab_link": true
    },
    "kernelspec": {
      "name": "python3",
      "display_name": "Python 3"
    }
  },
  "cells": [
    {
      "cell_type": "markdown",
      "metadata": {
        "id": "view-in-github",
        "colab_type": "text"
      },
      "source": [
        "<a href=\"https://colab.research.google.com/github/Henry-Medeiros/class-scripts/blob/master/Class3.ipynb\" target=\"_parent\"><img src=\"https://colab.research.google.com/assets/colab-badge.svg\" alt=\"Open In Colab\"/></a>"
      ]
    },
    {
      "cell_type": "code",
      "metadata": {
        "id": "LdOBrgfGe3oh",
        "colab_type": "code",
        "colab": {}
      },
      "source": [
        "# Download image\n",
        "!wget 'https://github.com/Henry-Medeiros/images/raw/master/Marquette.jpg'"
      ],
      "execution_count": null,
      "outputs": []
    },
    {
      "cell_type": "code",
      "metadata": {
        "id": "IZKkIEm3lm6a",
        "colab_type": "code",
        "colab": {
          "base_uri": "https://localhost:8080/",
          "height": 72
        },
        "outputId": "5ab8eca1-ee67-44d0-8562-366146b51604"
      },
      "source": [
        "# Numpy\n",
        "import numpy as np\n",
        "\n",
        "A = np.array([[1, 2], [3, 4]])\n",
        "W, V = np.linalg.eig(A)\n",
        "print(W)\n",
        "print(V)"
      ],
      "execution_count": 1,
      "outputs": [
        {
          "output_type": "stream",
          "text": [
            "[-0.37228132  5.37228132]\n",
            "[[-0.82456484 -0.41597356]\n",
            " [ 0.56576746 -0.90937671]]\n"
          ],
          "name": "stdout"
        }
      ]
    },
    {
      "cell_type": "code",
      "metadata": {
        "id": "Wf3tkG-4osWa",
        "colab_type": "code",
        "colab": {}
      },
      "source": [
        "# Matplotlib\n",
        "from matplotlib.pyplot import hist\n",
        "from matplotlib.image import imread\n",
        "\n",
        "img = imread('Marquette.jpg')\n",
        "hist(img[:, 0, 0])"
      ],
      "execution_count": null,
      "outputs": []
    },
    {
      "cell_type": "code",
      "metadata": {
        "id": "zGTvBpxsqRgk",
        "colab_type": "code",
        "colab": {}
      },
      "source": [
        "# Scipy\n",
        "from scipy import ndimage\n",
        "from matplotlib.pylab import imshow\n",
        "\n",
        "blurred_img = ndimage.gaussian_filter(img, sigma=3)\n",
        "imshow(blurred_img)"
      ],
      "execution_count": null,
      "outputs": []
    },
    {
      "cell_type": "code",
      "metadata": {
        "id": "GNs0O7D1ryBe",
        "colab_type": "code",
        "colab": {}
      },
      "source": [
        "# Scikit\n",
        "import matplotlib.pyplot as plt\n",
        "from skimage.color import rgb2gray\n",
        "from skimage.filters import threshold_otsu\n",
        "\n",
        "gray_img = rgb2gray(img)\n",
        "thresh = threshold_otsu(gray_img)\n",
        "binary_img = gray_img > thresh\n",
        "imshow(binary_img, cmap=plt.cm.gray)"
      ],
      "execution_count": null,
      "outputs": []
    },
    {
      "cell_type": "code",
      "metadata": {
        "id": "KVZ-8v-GxiTQ",
        "colab_type": "code",
        "colab": {}
      },
      "source": [
        "# OpenCV\n",
        "#! pip install opencv-python\n",
        "\n",
        "import cv2\n",
        "\n",
        "img = cv2.imread('Marquette.jpg')\n",
        "rows,cols, channels = img.shape\n",
        "\n",
        "rotation_matrix = cv2.getRotationMatrix2D((cols/2,rows/2),45,1)\n",
        "rotated_img = cv2.warpAffine(img,rotation_matrix,(cols,rows))\n",
        "imshow(rotated_img)"
      ],
      "execution_count": null,
      "outputs": []
    }
  ]
}